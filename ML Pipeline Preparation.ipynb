{
 "cells": [
  {
   "cell_type": "markdown",
   "metadata": {},
   "source": [
    "# ML Pipeline Preparation\n",
    "Follow the instructions below to help you create your ML pipeline.\n",
    "### 1. Import libraries and load data from database.\n",
    "- Import Python libraries\n",
    "- Load dataset from database with [`read_sql_table`](https://pandas.pydata.org/pandas-docs/stable/generated/pandas.read_sql_table.html)\n",
    "- Define feature and target variables X and Y"
   ]
  },
  {
   "cell_type": "code",
   "execution_count": 1,
   "metadata": {},
   "outputs": [
    {
     "name": "stdout",
     "output_type": "stream",
     "text": [
      "[nltk_data] Downloading package punkt to /root/nltk_data...\n",
      "[nltk_data]   Unzipping tokenizers/punkt.zip.\n",
      "[nltk_data] Downloading package wordnet to /root/nltk_data...\n",
      "[nltk_data]   Unzipping corpora/wordnet.zip.\n",
      "[nltk_data] Downloading package averaged_perceptron_tagger to\n",
      "[nltk_data]     /root/nltk_data...\n",
      "[nltk_data]   Unzipping taggers/averaged_perceptron_tagger.zip.\n",
      "[nltk_data] Downloading package punkt to /root/nltk_data...\n",
      "[nltk_data]   Package punkt is already up-to-date!\n",
      "[nltk_data] Downloading package stopwords to /root/nltk_data...\n",
      "[nltk_data]   Unzipping corpora/stopwords.zip.\n"
     ]
    }
   ],
   "source": [
    "# import libraries\n",
    "import nltk\n",
    "import pickle\n",
    "nltk.download(['punkt', 'wordnet', 'averaged_perceptron_tagger'])\n",
    "from sklearn.model_selection import GridSearchCV\n",
    "import nltk\n",
    "nltk.download('punkt')  \n",
    "nltk.download('stopwords')\n",
    "import pandas as pd\n",
    "from nltk.tokenize import word_tokenize\n",
    "from sqlalchemy import create_engine\n",
    "from sklearn.preprocessing import OneHotEncoder\n",
    "from nltk.corpus import stopwords\n",
    "from nltk.stem.wordnet import WordNetLemmatizer\n",
    "from sklearn.ensemble import RandomForestClassifier, ExtraTreesClassifier\n",
    "import re\n",
    "from sklearn.model_selection import train_test_split\n",
    "from sklearn.pipeline import Pipeline, FeatureUnion\n",
    "from sklearn.feature_extraction.text import CountVectorizer, TfidfTransformer\n",
    "url_regex = 'http[s]?://(?:[a-zA-Z]|[0-9]|[$-_@.&+]|[!*\\(\\),]|(?:%[0-9a-fA-F][0-9a-fA-F]))+'\n",
    "import re\n",
    "from sklearn.multioutput import MultiOutputClassifier\n",
    "import numpy as np\n",
    "import warnings\n",
    "warnings.simplefilter('ignore')\n",
    "from sklearn.metrics import  f1_score,  accuracy_score, classification_report, fbeta_score, make_scorer"
   ]
  },
  {
   "cell_type": "code",
   "execution_count": 2,
   "metadata": {},
   "outputs": [],
   "source": [
    "# load data from database\n",
    "engine = create_engine('sqlite:///DisasterResponse.db')\n",
    "df = pd.read_sql(\"SELECT * FROM messages\", engine)\n",
    "col=[i for i in df.columns if i not in ['id','original', 'genre']]\n",
    "X = df[\"message\"]\n",
    "Y = df.iloc[:,4:]\n",
    "#global category_names\n",
    "category_names = Y.columns\n",
    "#print(category_names)"
   ]
  },
  {
   "cell_type": "markdown",
   "metadata": {},
   "source": [
    "### 2. Write a tokenization function to process your text data"
   ]
  },
  {
   "cell_type": "code",
   "execution_count": 3,
   "metadata": {
    "scrolled": true
   },
   "outputs": [],
   "source": [
    "def tokenize(text):\n",
    "    detected_urls = re.findall(url_regex, text)\n",
    "    for url in detected_urls:\n",
    "        text = text.replace(url, \"urlplaceholder\")\n",
    "\n",
    "    tokens = word_tokenize(text)\n",
    "    lemmatizer = WordNetLemmatizer()\n",
    "\n",
    "    clean_tokens = []\n",
    "    for tok in tokens:\n",
    "        clean_tok = lemmatizer.lemmatize(tok).lower().strip()\n",
    "        clean_tokens.append(clean_tok)\n",
    "\n",
    "    return clean_tokens\n",
    "\n"
   ]
  },
  {
   "cell_type": "markdown",
   "metadata": {},
   "source": [
    "### 3. Build a machine learning pipeline\n",
    "This machine pipeline should take in the `message` column as input and output classification results on the other 36 categories in the dataset. You may find the [MultiOutputClassifier](http://scikit-learn.org/stable/modules/generated/sklearn.multioutput.MultiOutputClassifier.html) helpful for predicting multiple target variables."
   ]
  },
  {
   "cell_type": "code",
   "execution_count": 4,
   "metadata": {},
   "outputs": [],
   "source": [
    " pipeline = Pipeline([\n",
    "            ('text_pipeline', Pipeline([\n",
    "                ('vect', CountVectorizer(tokenizer=tokenize)),\n",
    "                ('tfidf', TfidfTransformer())\n",
    "            ])),\n",
    "\n",
    "        \n",
    "\n",
    "        ('clf', RandomForestClassifier())\n",
    "    ])\n",
    "\n",
    "   \n",
    "\n"
   ]
  },
  {
   "cell_type": "markdown",
   "metadata": {},
   "source": [
    "### 4. Train pipeline\n",
    "- Split data into train and test sets\n",
    "- Train pipeline"
   ]
  },
  {
   "cell_type": "code",
   "execution_count": 5,
   "metadata": {},
   "outputs": [
    {
     "data": {
      "text/plain": [
       "dict_keys(['memory', 'steps', 'text_pipeline', 'clf', 'text_pipeline__memory', 'text_pipeline__steps', 'text_pipeline__vect', 'text_pipeline__tfidf', 'text_pipeline__vect__analyzer', 'text_pipeline__vect__binary', 'text_pipeline__vect__decode_error', 'text_pipeline__vect__dtype', 'text_pipeline__vect__encoding', 'text_pipeline__vect__input', 'text_pipeline__vect__lowercase', 'text_pipeline__vect__max_df', 'text_pipeline__vect__max_features', 'text_pipeline__vect__min_df', 'text_pipeline__vect__ngram_range', 'text_pipeline__vect__preprocessor', 'text_pipeline__vect__stop_words', 'text_pipeline__vect__strip_accents', 'text_pipeline__vect__token_pattern', 'text_pipeline__vect__tokenizer', 'text_pipeline__vect__vocabulary', 'text_pipeline__tfidf__norm', 'text_pipeline__tfidf__smooth_idf', 'text_pipeline__tfidf__sublinear_tf', 'text_pipeline__tfidf__use_idf', 'clf__bootstrap', 'clf__class_weight', 'clf__criterion', 'clf__max_depth', 'clf__max_features', 'clf__max_leaf_nodes', 'clf__min_impurity_decrease', 'clf__min_impurity_split', 'clf__min_samples_leaf', 'clf__min_samples_split', 'clf__min_weight_fraction_leaf', 'clf__n_estimators', 'clf__n_jobs', 'clf__oob_score', 'clf__random_state', 'clf__verbose', 'clf__warm_start'])"
      ]
     },
     "execution_count": 5,
     "metadata": {},
     "output_type": "execute_result"
    }
   ],
   "source": [
    "X_train, X_test, y_train, y_test = train_test_split(X, Y)\n",
    "model =pipeline\n",
    "model.fit(X_train, y_train) \n",
    "model.get_params().keys()"
   ]
  },
  {
   "cell_type": "markdown",
   "metadata": {},
   "source": [
    "### 5. Test your model\n",
    "Report the f1 score, precision and recall for each output category of the dataset. You can do this by iterating through the columns and calling sklearn's `classification_report` on each."
   ]
  },
  {
   "cell_type": "code",
   "execution_count": 6,
   "metadata": {},
   "outputs": [
    {
     "name": "stdout",
     "output_type": "stream",
     "text": [
      "[ 0.  1.]\n",
      "                        precision    recall  f1-score   support\n",
      "\n",
      "               related       0.83      0.90      0.87      4996\n",
      "               request       0.85      0.38      0.52      1104\n",
      "                 offer       0.00      0.00      0.00        29\n",
      "           aid_related       0.78      0.41      0.54      2726\n",
      "          medical_help       0.71      0.02      0.04       535\n",
      "      medical_products       1.00      0.01      0.03       351\n",
      "     search_and_rescue       1.00      0.01      0.02       194\n",
      "              security       0.00      0.00      0.00       137\n",
      "              military       0.67      0.01      0.02       251\n",
      "           child_alone       0.00      0.00      0.00         0\n",
      "                 water       0.90      0.14      0.24       408\n",
      "                  food       0.89      0.25      0.39       730\n",
      "               shelter       0.89      0.10      0.17       563\n",
      "              clothing       1.00      0.04      0.07       104\n",
      "                 money       0.83      0.03      0.06       159\n",
      "        missing_people       0.00      0.00      0.00        76\n",
      "              refugees       0.50      0.01      0.03       227\n",
      "                 death       0.91      0.07      0.13       293\n",
      "             other_aid       0.70      0.04      0.07       843\n",
      "infrastructure_related       0.33      0.00      0.00       430\n",
      "             transport       0.00      0.00      0.00       295\n",
      "             buildings       0.69      0.03      0.05       331\n",
      "           electricity       0.00      0.00      0.00       129\n",
      "                 tools       0.00      0.00      0.00        40\n",
      "             hospitals       0.00      0.00      0.00        73\n",
      "                 shops       0.00      0.00      0.00        27\n",
      "           aid_centers       0.00      0.00      0.00        75\n",
      "  other_infrastructure       0.00      0.00      0.00       299\n",
      "       weather_related       0.86      0.40      0.54      1817\n",
      "                floods       0.83      0.18      0.29       522\n",
      "                 storm       0.75      0.19      0.30       611\n",
      "                  fire       0.00      0.00      0.00        72\n",
      "            earthquake       0.91      0.38      0.54       603\n",
      "                  cold       0.67      0.02      0.03       115\n",
      "         other_weather       0.29      0.01      0.01       345\n",
      "         direct_report       0.83      0.32      0.46      1288\n",
      "\n",
      "           avg / total       0.75      0.39      0.45     20798\n",
      "\n"
     ]
    }
   ],
   "source": [
    "y_pred = model.predict(X_test)\n",
    "#print(y_pred)\n",
    "\n",
    "def display_results(y_test, y_pred):\n",
    "    labels = np.unique(y_pred)\n",
    "    print(labels)\n",
    "    #accuracy = (y_pred == y_test).mean()    \n",
    "    #print(\"f1 score\", my_)\n",
    "   # print(\"Accuracy:\", accuracy)\n",
    "    #classification_report(y_test, y_pred, target_names=category_names)\n",
    "    print(classification_report(y_test.values, y_pred, target_names=Y.columns.values))\n",
    "display_results(y_test, y_pred)"
   ]
  },
  {
   "cell_type": "markdown",
   "metadata": {},
   "source": [
    "### 6. Improve your model\n",
    "Use grid search to find better parameters. "
   ]
  },
  {
   "cell_type": "code",
   "execution_count": 7,
   "metadata": {},
   "outputs": [],
   "source": [
    "def build_model():\n",
    "    pipeline = Pipeline([\n",
    "    ('vect', CountVectorizer(tokenizer = tokenize))\n",
    "    , ('tfidf', TfidfTransformer())\n",
    "    \n",
    "    , ('clf', MultiOutputClassifier(RandomForestClassifier()))])\n",
    "\n",
    "    parameters = {'vect__min_df': [1, 5],\n",
    "             # 'tfidf__use_idf':[True, False],\n",
    "              'clf__estimator__n_estimators':[50, 100], \n",
    "              #'clf__estimator__min_samples_split':[5],\n",
    "              #'vect__max_features': (5000, 10000)\n",
    "       \n",
    "                 }\n",
    "\n",
    "    #cv = GridSearchCV(estimator=pipeline, param_grid=parameters, verbose=3)   \n",
    "    #my_scorer = make_scorer(f1_score(y_test, y_pred, average='macro'), greater_is_better=True)\n",
    "    cv = GridSearchCV(pipeline, param_grid=parameters, scoring=\"f1_weighted\")\n",
    "\n",
    "\n",
    "    return cv"
   ]
  },
  {
   "cell_type": "markdown",
   "metadata": {},
   "source": [
    "### 7. Test your model\n",
    "Show the accuracy, precision, and recall of the tuned model.  \n",
    "\n",
    "Since this project focuses on code quality, process, and  pipelines, there is no minimum performance metric needed to pass. However, make sure to fine tune your models for accuracy, precision and recall to make your project stand out - especially for your portfolio!"
   ]
  },
  {
   "cell_type": "code",
   "execution_count": 8,
   "metadata": {},
   "outputs": [
    {
     "data": {
      "text/plain": [
       "GridSearchCV(cv=None, error_score='raise',\n",
       "       estimator=Pipeline(memory=None,\n",
       "     steps=[('vect', CountVectorizer(analyzer='word', binary=False, decode_error='strict',\n",
       "        dtype=<class 'numpy.int64'>, encoding='utf-8', input='content',\n",
       "        lowercase=True, max_df=1.0, max_features=None, min_df=1,\n",
       "        ngram_range=(1, 1), preprocessor=None, stop_words=None,\n",
       "        strip...oob_score=False, random_state=None, verbose=0,\n",
       "            warm_start=False),\n",
       "           n_jobs=1))]),\n",
       "       fit_params=None, iid=True, n_jobs=1,\n",
       "       param_grid={'vect__min_df': [1, 5], 'clf__estimator__n_estimators': [50, 100]},\n",
       "       pre_dispatch='2*n_jobs', refit=True, return_train_score='warn',\n",
       "       scoring='f1_weighted', verbose=0)"
      ]
     },
     "execution_count": 8,
     "metadata": {},
     "output_type": "execute_result"
    }
   ],
   "source": [
    "model=build_model()\n",
    "model.fit(X_train, y_train)"
   ]
  },
  {
   "cell_type": "code",
   "execution_count": 9,
   "metadata": {},
   "outputs": [
    {
     "name": "stdout",
     "output_type": "stream",
     "text": [
      "[0 1]\n",
      "                        precision    recall  f1-score   support\n",
      "\n",
      "               related       0.81      0.97      0.88      4996\n",
      "               request       0.91      0.47      0.62      1104\n",
      "                 offer       0.00      0.00      0.00        29\n",
      "           aid_related       0.78      0.62      0.69      2726\n",
      "          medical_help       0.57      0.08      0.14       535\n",
      "      medical_products       0.83      0.10      0.18       351\n",
      "     search_and_rescue       0.88      0.08      0.14       194\n",
      "              security       0.50      0.01      0.01       137\n",
      "              military       0.82      0.06      0.10       251\n",
      "           child_alone       0.00      0.00      0.00         0\n",
      "                 water       0.92      0.32      0.48       408\n",
      "                  food       0.81      0.63      0.71       730\n",
      "               shelter       0.84      0.39      0.54       563\n",
      "              clothing       0.73      0.08      0.14       104\n",
      "                 money       0.80      0.03      0.05       159\n",
      "        missing_people       0.00      0.00      0.00        76\n",
      "              refugees       0.55      0.03      0.05       227\n",
      "                 death       0.76      0.18      0.29       293\n",
      "             other_aid       0.96      0.03      0.05       843\n",
      "infrastructure_related       0.25      0.00      0.00       430\n",
      "             transport       0.76      0.11      0.19       295\n",
      "             buildings       0.77      0.12      0.21       331\n",
      "           electricity       0.40      0.03      0.06       129\n",
      "                 tools       0.00      0.00      0.00        40\n",
      "             hospitals       0.00      0.00      0.00        73\n",
      "                 shops       0.00      0.00      0.00        27\n",
      "           aid_centers       0.00      0.00      0.00        75\n",
      "  other_infrastructure       0.00      0.00      0.00       299\n",
      "       weather_related       0.85      0.68      0.76      1817\n",
      "                floods       0.89      0.49      0.63       522\n",
      "                 storm       0.77      0.58      0.66       611\n",
      "                  fire       0.00      0.00      0.00        72\n",
      "            earthquake       0.92      0.80      0.86       603\n",
      "                  cold       0.63      0.15      0.24       115\n",
      "         other_weather       0.48      0.04      0.07       345\n",
      "         direct_report       0.88      0.39      0.54      1288\n",
      "\n",
      "           avg / total       0.77      0.53      0.57     20798\n",
      "\n"
     ]
    }
   ],
   "source": [
    "y_pred = model.predict(X_test)\n",
    "display_results(y_test, y_pred)"
   ]
  },
  {
   "cell_type": "markdown",
   "metadata": {},
   "source": [
    "### 8. Try improving your model further. Here are a few ideas:\n",
    "* try other machine learning algorithms\n",
    "* add other features besides the TF-IDF"
   ]
  },
  {
   "cell_type": "code",
   "execution_count": 11,
   "metadata": {},
   "outputs": [
    {
     "name": "stdout",
     "output_type": "stream",
     "text": [
      "[0 1]\n",
      "                        precision    recall  f1-score   support\n",
      "\n",
      "               related       0.81      0.97      0.88      4996\n",
      "               request       0.91      0.47      0.62      1104\n",
      "                 offer       0.00      0.00      0.00        29\n",
      "           aid_related       0.79      0.65      0.72      2726\n",
      "          medical_help       0.61      0.08      0.14       535\n",
      "      medical_products       0.90      0.10      0.18       351\n",
      "     search_and_rescue       0.83      0.03      0.05       194\n",
      "              security       0.33      0.01      0.01       137\n",
      "              military       0.71      0.05      0.09       251\n",
      "           child_alone       0.00      0.00      0.00         0\n",
      "                 water       0.94      0.24      0.39       408\n",
      "                  food       0.85      0.43      0.57       730\n",
      "               shelter       0.85      0.36      0.50       563\n",
      "              clothing       0.74      0.13      0.23       104\n",
      "                 money       0.88      0.04      0.08       159\n",
      "        missing_people       1.00      0.01      0.03        76\n",
      "              refugees       0.46      0.03      0.05       227\n",
      "                 death       0.81      0.12      0.20       293\n",
      "             other_aid       0.70      0.02      0.04       843\n",
      "infrastructure_related       0.29      0.00      0.01       430\n",
      "             transport       0.61      0.06      0.11       295\n",
      "             buildings       0.73      0.10      0.18       331\n",
      "           electricity       0.43      0.02      0.04       129\n",
      "                 tools       0.00      0.00      0.00        40\n",
      "             hospitals       1.00      0.01      0.03        73\n",
      "                 shops       0.00      0.00      0.00        27\n",
      "           aid_centers       0.00      0.00      0.00        75\n",
      "  other_infrastructure       0.00      0.00      0.00       299\n",
      "       weather_related       0.84      0.68      0.75      1817\n",
      "                floods       0.89      0.44      0.59       522\n",
      "                 storm       0.77      0.48      0.59       611\n",
      "                  fire       1.00      0.01      0.03        72\n",
      "            earthquake       0.90      0.62      0.73       603\n",
      "                  cold       0.55      0.10      0.16       115\n",
      "         other_weather       0.64      0.05      0.10       345\n",
      "         direct_report       0.89      0.38      0.54      1288\n",
      "\n",
      "           avg / total       0.78      0.51      0.56     20798\n",
      "\n"
     ]
    }
   ],
   "source": [
    "def build_model_new():\n",
    "    pipeline = Pipeline([\n",
    "    ('vect', CountVectorizer(tokenizer = tokenize))\n",
    "    , ('tfidf', TfidfTransformer())\n",
    "    , ('clf', MultiOutputClassifier(ExtraTreesClassifier()))])\n",
    "\n",
    "    parameters = {'vect__min_df': [1, 5],\n",
    "             # 'tfidf__use_idf':[True, False],\n",
    "              'clf__estimator__n_estimators':[50, 100], \n",
    "             \n",
    "                 }\n",
    "\n",
    "    #cv = GridSearchCV(estimator=pipeline, param_grid=parameters, verbose=3)   \n",
    "    #my_scorer = make_scorer(f1_score(y_test, y_pred, average='macro'), greater_is_better=True)\n",
    "    cv = GridSearchCV(pipeline, param_grid=parameters, scoring=\"f1_weighted\")\n",
    "    return cv\n",
    "model=build_model_new()\n",
    "model.fit(X_train, y_train)\n",
    "y_pred = model.predict(X_test)\n",
    "display_results(y_test, y_pred)"
   ]
  },
  {
   "cell_type": "markdown",
   "metadata": {},
   "source": [
    "I obtained best result with Random Forest classifier with mean f1 score 0.57. I used also Adaboost it was very slow that is why I removed it, when I needed to rerun notebook and result was not that good."
   ]
  },
  {
   "cell_type": "markdown",
   "metadata": {},
   "source": [
    "### 9. Export your model as a pickle file"
   ]
  },
  {
   "cell_type": "code",
   "execution_count": 12,
   "metadata": {},
   "outputs": [],
   "source": [
    "filename = 'finalized_model.sav'\n",
    "pickle.dump(model, open(filename, 'wb'))"
   ]
  },
  {
   "cell_type": "markdown",
   "metadata": {},
   "source": [
    "### 10. Use this notebook to complete `train.py`\n",
    "Use the template file attached in the Resources folder to write a script that runs the steps above to create a database and export a model based on a new dataset specified by the user."
   ]
  },
  {
   "cell_type": "code",
   "execution_count": null,
   "metadata": {},
   "outputs": [],
   "source": []
  }
 ],
 "metadata": {
  "kernelspec": {
   "display_name": "Python 3",
   "language": "python",
   "name": "python3"
  },
  "language_info": {
   "codemirror_mode": {
    "name": "ipython",
    "version": 3
   },
   "file_extension": ".py",
   "mimetype": "text/x-python",
   "name": "python",
   "nbconvert_exporter": "python",
   "pygments_lexer": "ipython3",
   "version": "3.6.3"
  }
 },
 "nbformat": 4,
 "nbformat_minor": 2
}
